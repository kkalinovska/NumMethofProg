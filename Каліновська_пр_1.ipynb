{
  "nbformat": 4,
  "nbformat_minor": 0,
  "metadata": {
    "colab": {
      "provenance": [],
      "authorship_tag": "ABX9TyOwbCRkjVwyBZJrHUYEycsG",
      "include_colab_link": true
    },
    "kernelspec": {
      "name": "python3",
      "display_name": "Python 3"
    },
    "language_info": {
      "name": "python"
    }
  },
  "cells": [
    {
      "cell_type": "markdown",
      "metadata": {
        "id": "view-in-github",
        "colab_type": "text"
      },
      "source": [
        "<a href=\"https://colab.research.google.com/github/kkalinovska/NumMethofProg/blob/main/%D0%9A%D0%B0%D0%BB%D1%96%D0%BD%D0%BE%D0%B2%D1%81%D1%8C%D0%BA%D0%B0_%D0%BF%D1%80_1.ipynb\" target=\"_parent\"><img src=\"https://colab.research.google.com/assets/colab-badge.svg\" alt=\"Open In Colab\"/></a>"
      ]
    },
    {
      "cell_type": "code",
      "execution_count": 2,
      "metadata": {
        "colab": {
          "base_uri": "https://localhost:8080/",
          "height": 36
        },
        "id": "Ldvfq813znDJ",
        "outputId": "91524201-d3a5-428e-be70-233ca5044569"
      },
      "outputs": [
        {
          "output_type": "execute_result",
          "data": {
            "text/plain": [
              "'2.0.2'"
            ],
            "application/vnd.google.colaboratory.intrinsic+json": {
              "type": "string"
            }
          },
          "metadata": {},
          "execution_count": 2
        }
      ],
      "source": [
        "import numpy as np\n",
        "np.__version__"
      ]
    },
    {
      "cell_type": "markdown",
      "source": [
        "1. Створити матрицю 3*3, заповнити її цілими випадковими числами від 1 до 5"
      ],
      "metadata": {
        "id": "YK8DcbqM1RYq"
      }
    },
    {
      "cell_type": "code",
      "source": [
        "matrix = np.random.randint(1, 6, size=(3, 3))\n",
        "matrix"
      ],
      "metadata": {
        "colab": {
          "base_uri": "https://localhost:8080/"
        },
        "id": "V26QKGzj0XKU",
        "outputId": "db786d5e-0865-4bec-99d0-cb299c0803c3"
      },
      "execution_count": 3,
      "outputs": [
        {
          "output_type": "execute_result",
          "data": {
            "text/plain": [
              "array([[1, 2, 3],\n",
              "       [2, 2, 4],\n",
              "       [5, 3, 3]])"
            ]
          },
          "metadata": {},
          "execution_count": 3
        }
      ]
    },
    {
      "cell_type": "markdown",
      "source": [
        "2. Обчислити визначник матриці"
      ],
      "metadata": {
        "id": "nmTB7yHe1Mp0"
      }
    },
    {
      "cell_type": "code",
      "source": [
        "det = np.linalg.det(matrix)\n",
        "det"
      ],
      "metadata": {
        "colab": {
          "base_uri": "https://localhost:8080/"
        },
        "id": "L1H25GPv0xkj",
        "outputId": "9aaaffee-ebbc-4ef0-fbec-d02825ffe32c"
      },
      "execution_count": 4,
      "outputs": [
        {
          "output_type": "execute_result",
          "data": {
            "text/plain": [
              "np.float64(10.000000000000002)"
            ]
          },
          "metadata": {},
          "execution_count": 4
        }
      ]
    },
    {
      "cell_type": "markdown",
      "source": [
        "3. Знайти добуток всіх елементів матриці"
      ],
      "metadata": {
        "id": "80XK-f7R1LtA"
      }
    },
    {
      "cell_type": "code",
      "source": [
        "product = np.prod(matrix)\n",
        "product"
      ],
      "metadata": {
        "colab": {
          "base_uri": "https://localhost:8080/"
        },
        "id": "nSpdT7ao1Kmr",
        "outputId": "59ae567f-ac17-4ab9-daf7-2fc172da9272"
      },
      "execution_count": 5,
      "outputs": [
        {
          "output_type": "execute_result",
          "data": {
            "text/plain": [
              "np.int64(4320)"
            ]
          },
          "metadata": {},
          "execution_count": 5
        }
      ]
    },
    {
      "cell_type": "code",
      "source": [
        "prod_1 = np.prod(matrix[0])\n",
        "prod_2 = np.prod(matrix[1])\n",
        "prod_3 = np.prod(matrix[2])\n",
        "prod_1*prod_2*prod_3"
      ],
      "metadata": {
        "colab": {
          "base_uri": "https://localhost:8080/"
        },
        "id": "DN1vKbNs1xC_",
        "outputId": "9455b01f-9f51-41d5-980e-667ae726ab75"
      },
      "execution_count": 9,
      "outputs": [
        {
          "output_type": "execute_result",
          "data": {
            "text/plain": [
              "np.int64(4320)"
            ]
          },
          "metadata": {},
          "execution_count": 9
        }
      ]
    },
    {
      "cell_type": "markdown",
      "source": [
        "4. Знайти суму всіх елементів матриці"
      ],
      "metadata": {
        "id": "TwOCf63I2UIH"
      }
    },
    {
      "cell_type": "code",
      "source": [
        "sum = np.sum(matrix)\n",
        "sum"
      ],
      "metadata": {
        "colab": {
          "base_uri": "https://localhost:8080/"
        },
        "id": "FzZAa0jl2cL7",
        "outputId": "296b51cd-e396-469c-a5df-572f54599aa6"
      },
      "execution_count": 6,
      "outputs": [
        {
          "output_type": "execute_result",
          "data": {
            "text/plain": [
              "np.int64(25)"
            ]
          },
          "metadata": {},
          "execution_count": 6
        }
      ]
    },
    {
      "cell_type": "markdown",
      "source": [
        "5. Обчислити найбільший, найменший елементи"
      ],
      "metadata": {
        "id": "dZpjcp5X2oOp"
      }
    },
    {
      "cell_type": "code",
      "source": [
        "max_element = np.max(matrix)\n",
        "\n",
        "print(\"Найбільший елемент матриці:\", max_element)\n",
        "\n",
        "min_element = np.min(matrix)\n",
        "\n",
        "print(\"Найменший елемент матриці:\", min_element)"
      ],
      "metadata": {
        "colab": {
          "base_uri": "https://localhost:8080/"
        },
        "id": "7zlBsvX62oh3",
        "outputId": "84060956-c482-463f-e51e-40f21d4f5e44"
      },
      "execution_count": 7,
      "outputs": [
        {
          "output_type": "stream",
          "name": "stdout",
          "text": [
            "Найбільший елемент матриці: 5\n",
            "Найменший елемент матриці: 1\n"
          ]
        }
      ]
    },
    {
      "cell_type": "markdown",
      "source": [
        "6. Знайти середнє значення  елементів матриці\n",
        "\n"
      ],
      "metadata": {
        "id": "kr1A3kV-3lxd"
      }
    },
    {
      "cell_type": "code",
      "source": [
        "mean = np.mean(matrix)\n",
        "\n",
        "print(\"Середнє значення елементів матриці:\", mean)"
      ],
      "metadata": {
        "colab": {
          "base_uri": "https://localhost:8080/"
        },
        "id": "VOimSYuI3qYu",
        "outputId": "b059b94d-5fed-4313-9320-ae83afec2d0d"
      },
      "execution_count": 8,
      "outputs": [
        {
          "output_type": "stream",
          "name": "stdout",
          "text": [
            "Середнє значення елементів матриці: 2.7777777777777777\n"
          ]
        }
      ]
    },
    {
      "cell_type": "markdown",
      "source": [
        "7. Знайти матрицю, що складена з квадратних коренів."
      ],
      "metadata": {
        "id": "Luf6IUGa4ADM"
      }
    },
    {
      "cell_type": "code",
      "source": [
        "sqrt_matrix = np.sqrt(matrix)\n",
        "\n",
        "print(\"Матриця квадратних коренів:\")\n",
        "print(sqrt_matrix)"
      ],
      "metadata": {
        "colab": {
          "base_uri": "https://localhost:8080/"
        },
        "id": "s7CiU2-R5d-P",
        "outputId": "5959f66c-5407-43c6-f56d-9ee51488dbc3"
      },
      "execution_count": 10,
      "outputs": [
        {
          "output_type": "stream",
          "name": "stdout",
          "text": [
            "Матриця квадратних коренів:\n",
            "[[1.         1.41421356 1.73205081]\n",
            " [1.41421356 1.41421356 2.        ]\n",
            " [2.23606798 1.73205081 1.73205081]]\n"
          ]
        }
      ]
    },
    {
      "cell_type": "markdown",
      "source": [
        "8. Обчислити суму елементів кожного рядка. Відповідь записати як вектор-стовпчик"
      ],
      "metadata": {
        "id": "DgyOMJWh50b4"
      }
    },
    {
      "cell_type": "code",
      "source": [
        "row_sums = np.sum(matrix, axis=1).reshape(-1, 1)\n",
        "\n",
        "print(\"Сума елементів кожного рядка:\")\n",
        "print(row_sums)\n",
        "#В результаті отримали вектор-стовпчик"
      ],
      "metadata": {
        "colab": {
          "base_uri": "https://localhost:8080/"
        },
        "id": "DgOYzbgf6Ck0",
        "outputId": "aa90e2f0-4468-4f83-b8f0-2a9c089516ef"
      },
      "execution_count": 11,
      "outputs": [
        {
          "output_type": "stream",
          "name": "stdout",
          "text": [
            "Сума елементів кожного рядка:\n",
            "[[ 6]\n",
            " [ 8]\n",
            " [11]]\n"
          ]
        }
      ]
    },
    {
      "cell_type": "markdown",
      "source": [
        "9. Створити вектор, що містить 25 елементів.Заповни числами від 0 до 9. Відсортувати числа за спаданням"
      ],
      "metadata": {
        "id": "hRRmR9y76mA2"
      }
    },
    {
      "cell_type": "code",
      "source": [
        "vector = np.random.randint(0, 10, size=25)\n",
        "\n",
        "print(\"Початковий вектор:\")\n",
        "print(vector)\n",
        "\n",
        "#Сортуємо числа за спаданням\n",
        "sorted_vector = np.sort(vector)[::-1]\n",
        "\n",
        "print(\"Вектор після сортування за спаданням:\")\n",
        "print(sorted_vector)"
      ],
      "metadata": {
        "colab": {
          "base_uri": "https://localhost:8080/"
        },
        "id": "EtIXjIyI735j",
        "outputId": "08e26994-9eca-4d0e-94b5-910dfb3bf0da"
      },
      "execution_count": 12,
      "outputs": [
        {
          "output_type": "stream",
          "name": "stdout",
          "text": [
            "Початковий вектор:\n",
            "[0 5 3 0 0 0 9 5 8 6 4 4 5 6 1 5 2 2 0 9 6 9 3 7 4]\n",
            "Вектор після сортування за спаданням:\n",
            "[9 9 9 8 7 6 6 6 5 5 5 5 4 4 4 3 3 2 2 1 0 0 0 0 0]\n"
          ]
        }
      ]
    },
    {
      "cell_type": "markdown",
      "source": [
        "10. Знайти моду, медіану, середнє, максимальне, мінімальне значення"
      ],
      "metadata": {
        "id": "Py84KSJX8rlz"
      }
    },
    {
      "cell_type": "code",
      "source": [
        "from scipy import stats\n",
        "#Знаходимо моду\n",
        "mode = stats.mode(vector)\n",
        "\n",
        "#Знаходимо медіану\n",
        "median = np.median(vector)\n",
        "\n",
        "#Знаходимо середнє\n",
        "mean = np.mean(vector)\n",
        "\n",
        "#Знаходимо максимальне значення\n",
        "max_value = np.max(vector)\n",
        "\n",
        "#Знаходимо мінімальне значення\n",
        "min_value = np.min(vector)\n",
        "\n",
        "print(\"Мода:\", mode)\n",
        "print(\"Медіана:\", median)\n",
        "print(\"Середнє:\", mean)\n",
        "print(\"Максимальне значення:\", max_value)\n",
        "print(\"Мінімальне значення:\", min_value)"
      ],
      "metadata": {
        "colab": {
          "base_uri": "https://localhost:8080/"
        },
        "id": "jbLOPpJJ83gl",
        "outputId": "a7377047-fc9c-4762-f19d-952903c5714a"
      },
      "execution_count": 13,
      "outputs": [
        {
          "output_type": "stream",
          "name": "stdout",
          "text": [
            "Мода: ModeResult(mode=np.int64(0), count=np.int64(5))\n",
            "Медіана: 4.0\n",
            "Середнє: 4.12\n",
            "Максимальне значення: 9\n",
            "Мінімальне значення: 0\n"
          ]
        }
      ]
    },
    {
      "cell_type": "markdown",
      "source": [
        "11. Створити дві матриці 4*4, заповнені числами від 1 до 10.Обчислити суму, різницю,поелементний добуток,частку"
      ],
      "metadata": {
        "id": "EcobxWXt-8KH"
      }
    },
    {
      "cell_type": "code",
      "source": [
        "matrix1 = np.random.randint(1, 11, size=(4, 4))\n",
        "matrix2 = np.random.randint(1, 11, size=(4, 4))\n",
        "\n",
        "print(\"Матриця 1:\")\n",
        "print(matrix1)\n",
        "\n",
        "print(\"\\nМатриця 2:\")\n",
        "print(matrix2)"
      ],
      "metadata": {
        "colab": {
          "base_uri": "https://localhost:8080/"
        },
        "id": "yVkZtNT2_OaI",
        "outputId": "f6b893f8-c064-4612-f1ca-45435556014d"
      },
      "execution_count": 16,
      "outputs": [
        {
          "output_type": "stream",
          "name": "stdout",
          "text": [
            "Матриця 1:\n",
            "[[ 8  7 10  5]\n",
            " [ 7  1  5  5]\n",
            " [ 3 10  6 10]\n",
            " [ 2  2  9  1]]\n",
            "\n",
            "Матриця 2:\n",
            "[[ 5  7  8  3]\n",
            " [ 9  3  5  6]\n",
            " [10  7  4  2]\n",
            " [10  9  9  6]]\n"
          ]
        }
      ]
    },
    {
      "cell_type": "code",
      "source": [
        "#Обчислюємо суму матриць\n",
        "matrix_sum = matrix1 + matrix2\n",
        "\n",
        "#Обчислюємо різницю матриць\n",
        "matrix_diff = matrix1 - matrix2\n",
        "\n",
        "#Обчислюємо поелементний добуток матриць\n",
        "matrix_product = matrix1 * matrix2\n",
        "\n",
        "#Обчислюємо поелементну частку матриць\n",
        "#Для запобігання ділення на нуль, використовуємо np.divide з параметром where\n",
        "matrix_division = np.divide(matrix1, matrix2, where=(matrix2!=0))\n",
        "\n",
        "print(\"\\nСума матриць:\")\n",
        "print(matrix_sum)\n",
        "\n",
        "print(\"\\nРізниця матриць:\")\n",
        "print(matrix_diff)\n",
        "\n",
        "print(\"\\nПоелементний добуток матриць:\")\n",
        "print(matrix_product)\n",
        "\n",
        "print(\"\\nПоелементна частка матриць:\")\n",
        "print(matrix_division)\n",
        "\n"
      ],
      "metadata": {
        "colab": {
          "base_uri": "https://localhost:8080/"
        },
        "id": "fJ6q9gKlAedn",
        "outputId": "453bb849-d33c-4c01-fb36-da291225086d"
      },
      "execution_count": 17,
      "outputs": [
        {
          "output_type": "stream",
          "name": "stdout",
          "text": [
            "\n",
            "Сума матриць:\n",
            "[[13 14 18  8]\n",
            " [16  4 10 11]\n",
            " [13 17 10 12]\n",
            " [12 11 18  7]]\n",
            "\n",
            "Різниця матриць:\n",
            "[[ 3  0  2  2]\n",
            " [-2 -2  0 -1]\n",
            " [-7  3  2  8]\n",
            " [-8 -7  0 -5]]\n",
            "\n",
            "Поелементний добуток матриць:\n",
            "[[40 49 80 15]\n",
            " [63  3 25 30]\n",
            " [30 70 24 20]\n",
            " [20 18 81  6]]\n",
            "\n",
            "Поелементна частка матриць:\n",
            "[[1.6        1.         1.25       1.66666667]\n",
            " [0.77777778 0.33333333 1.         0.83333333]\n",
            " [0.3        1.42857143 1.5        5.        ]\n",
            " [0.2        0.22222222 1.         0.16666667]]\n"
          ]
        }
      ]
    },
    {
      "cell_type": "markdown",
      "source": [
        "Висновок: У ході лабораторної роботи ми закріпили практичні навички роботи з бібліотекою NumPy та SciPy. Ми створювали й обробляли матриці та вектори, виконували базові статистичні обчислення та операції над багатовимірними масивами."
      ],
      "metadata": {
        "id": "6iqLTeVBsrMN"
      }
    }
  ]
}