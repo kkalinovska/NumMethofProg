{
 "cells": [
  {
   "cell_type": "code",
   "execution_count": 6,
   "id": "e1a85fe8",
   "metadata": {},
   "outputs": [
    {
     "name": "stdout",
     "output_type": "stream",
     "text": [
      "[[14 24 30]\n",
      " [ 0 14 24]\n",
      " [ 0  0 14]]\n"
     ]
    }
   ],
   "source": [
    "import numpy as np \n",
    "a_arr = np.array([[1, 1, 1], [0, 1, 1], [0, 0, 1]])\n",
    "b_arr = np.array([[7, 5, 3], [0, 7, 5], [0, 0, 7]])\n",
    "c = b_arr.dot(a_arr) + a_arr.dot(b_arr) \n",
    "\n",
    "print(c) "
   ]
  },
  {
   "cell_type": "code",
   "execution_count": 9,
   "id": "39ca7b30",
   "metadata": {},
   "outputs": [
    {
     "name": "stdout",
     "output_type": "stream",
     "text": [
      "[[ 3  4 -4]\n",
      " [ 0  1  0]\n",
      " [-2  0  3]]\n"
     ]
    }
   ],
   "source": [
    "arr = np.array([[-1, 0, 2], [0, 1, 0], [1, 2, -1]])\n",
    "power= np.dot(arr,arr)\n",
    "print(power)"
   ]
  },
  {
   "cell_type": "code",
   "execution_count": 11,
   "id": "50720b02",
   "metadata": {},
   "outputs": [
    {
     "name": "stdout",
     "output_type": "stream",
     "text": [
      "[[-9 13]\n",
      " [15  4]]\n",
      "[[ 3  5]\n",
      " [ 6 -1]]\n",
      "[[ 2  1]\n",
      " [-3  2]]\n"
     ]
    }
   ],
   "source": [
    "matrix_1 = np.array([[3, 5], [6, -1]])\n",
    "matrix_2 = np.array([[2, 1], [-3, 2]])\n",
    "matrix_3 = matrix_1.dot(matrix_2)\n",
    "print(matrix_3)"
   ]
  },
  {
   "cell_type": "code",
   "execution_count": 12,
   "id": "d8c8c7dc",
   "metadata": {},
   "outputs": [
    {
     "name": "stdout",
     "output_type": "stream",
     "text": [
      "35\n"
     ]
    }
   ],
   "source": [
    "arr_a = np.array([[2, 3, 4], [1, 0, 6], [7, 8, 9]])\n",
    "a_det = np.linalg.det(arr_a)\n",
    "print(format(a_det,'.9g'))"
   ]
  },
  {
   "cell_type": "code",
   "execution_count": 13,
   "id": "84cb77e9",
   "metadata": {},
   "outputs": [
    {
     "name": "stdout",
     "output_type": "stream",
     "text": [
      "3\n"
     ]
    }
   ],
   "source": [
    "aa = np.array([[-2, 3, 1,-1], [3, 2, 1, 4], [1, 2, 3, 4], [0, 2, 3, 3]])\n",
    "rank = np.linalg.matrix_rank(aa) \n",
    "print(rank)"
   ]
  },
  {
   "cell_type": "code",
   "execution_count": 14,
   "id": "9da42844",
   "metadata": {},
   "outputs": [
    {
     "name": "stdout",
     "output_type": "stream",
     "text": [
      "-160\n"
     ]
    }
   ],
   "source": [
    "a_arr = np.array([[2, 3, 4,1], [1, 2, 3, 4], [3, 4, 1, 2], [4, 1, 2, 3]])\n",
    "a_det = np.linalg.det(a_arr)\n",
    "print(format(a_det,'.9g'))"
   ]
  },
  {
   "cell_type": "code",
   "execution_count": 15,
   "id": "d85a35b5",
   "metadata": {},
   "outputs": [
    {
     "name": "stdout",
     "output_type": "stream",
     "text": [
      "[[  1.  -1.   1.]\n",
      " [-38.  41. -34.]\n",
      " [ 27. -29.  24.]]\n"
     ]
    }
   ],
   "source": [
    "a = np.array([[2, 5, 7], [6, 3, 4], [5, -2, -3]])\n",
    "a_inv = np.linalg.inv(a) \n",
    "print(a_inv)"
   ]
  },
  {
   "cell_type": "code",
   "execution_count": 18,
   "id": "95ffbd6c",
   "metadata": {},
   "outputs": [
    {
     "name": "stdout",
     "output_type": "stream",
     "text": [
      "a= [[ 7  3 -6]\n",
      " [ 7  9 -9]\n",
      " [ 2 -4  9]]\n",
      "b= [[-1]\n",
      " [ 5]\n",
      " [28]]\n",
      "[[ 0.12931034 -0.00862069  0.07758621]\n",
      " [-0.23275862  0.21551724  0.06034483]\n",
      " [-0.13218391  0.09770115  0.12068966]]\n",
      "x= [[2.]\n",
      " [3.]\n",
      " [4.]]\n"
     ]
    }
   ],
   "source": [
    "a_arr = np.matrix('7 3 -6; 7 9 -9; 2 -4 9') \n",
    "b_arr = np.matrix('-1; 5; 28') \n",
    "print('a=', a_arr) \n",
    "print('b=',b_arr) \n",
    "a_inv = np.linalg.inv(a_arr) \n",
    "print(a_inv) \n",
    "x = a_inv.dot(b_arr) \n",
    "print('x=',x)"
   ]
  },
  {
   "cell_type": "code",
   "execution_count": 19,
   "id": "5116e505",
   "metadata": {},
   "outputs": [
    {
     "name": "stdout",
     "output_type": "stream",
     "text": [
      "Solving a system of linear algebraic equations by Cramer*s method\n",
      "x= 2.0 y= 3.0 z= 4.0\n",
      "Checking the correctness of the solution\n",
      " [[2.]\n",
      " [3.]\n",
      " [4.]]\n"
     ]
    }
   ],
   "source": [
    "a = np.matrix('7 3 -6; 7 9 -9; 2 -4 9') \n",
    "b = np.matrix('-1; 5; 28') \n",
    "def kram(a,b): \n",
    "    det_a = np.linalg.det(a) \n",
    "    if det_a != 0: \n",
    "       a1 = np.matrix(a) \n",
    "       a2 = np.matrix(a) \n",
    "       a3 = np.matrix(a) \n",
    "       a1[:, 0] = b \n",
    "       a2[:, 1] = b \n",
    "       a3[:, 2] = b \n",
    "       x = np.linalg.det(a1)/det_a \n",
    "       y =np.linalg.det(a2)/det_a \n",
    "       z= np.linalg.det(a3)/det_a \n",
    "       print('Solving a system of linear algebraic equations by Cramer*s method') \n",
    "       print('x=',x.round(3),'y=',y.round(3),'z=',z.round(3))  \n",
    "    else: \n",
    "        print('Determinant equals zero, the system has no solutions') \n",
    "    return x,y,z \n",
    "kram(a,b) \n",
    "print('Checking the correctness of the solution\\n', np.linalg.solve(a,b).round(3))"
   ]
  },
  {
   "cell_type": "code",
   "execution_count": 27,
   "id": "9bb4195f",
   "metadata": {},
   "outputs": [
    {
     "name": "stdout",
     "output_type": "stream",
     "text": [
      "[[0 1 3 0]\n",
      " [1 2 2 1]\n",
      " [1 1 3 2]]\n",
      "[1.   1.5  1.75]\n",
      "Найнижче середнє значення: 1.0\n"
     ]
    }
   ],
   "source": [
    "a = np.array(np.random.randint(0,5, size=(3,4)))\n",
    "average_rows = np.mean(a, axis=1)\n",
    "minimum = np.min(average_rows)\n",
    "print(a)\n",
    "print(average_rows)\n",
    "\n",
    "print('Найнижче середнє значення:', minimum)"
   ]
  },
  {
   "cell_type": "code",
   "execution_count": null,
   "id": "c4d71024",
   "metadata": {},
   "outputs": [],
   "source": []
  }
 ],
 "metadata": {
  "kernelspec": {
   "display_name": "Python 3 (ipykernel)",
   "language": "python",
   "name": "python3"
  },
  "language_info": {
   "codemirror_mode": {
    "name": "ipython",
    "version": 3
   },
   "file_extension": ".py",
   "mimetype": "text/x-python",
   "name": "python",
   "nbconvert_exporter": "python",
   "pygments_lexer": "ipython3",
   "version": "3.7.9"
  }
 },
 "nbformat": 4,
 "nbformat_minor": 5
}
