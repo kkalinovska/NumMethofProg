{
 "cells": [
  {
   "cell_type": "code",
   "execution_count": 4,
   "id": "3d3ecfce-aa5d-4c40-9eca-e3a5c3dc611e",
   "metadata": {},
   "outputs": [
    {
     "name": "stdout",
     "output_type": "stream",
     "text": [
      "Trapezoidal method: 0.817\n",
      "Check for the trapezoidal method = 0.81728\n"
     ]
    }
   ],
   "source": [
    "from scipy import integrate\n",
    "import numpy as np\n",
    "\n",
    "# Задаємо функцію, яку необхідно інтегрувати\n",
    "def f(x):\n",
    "    return 1 / np.sqrt(pow(x,2)+1)\n",
    "\n",
    "# Задаємо межі інтегрування та початкову кількість розбиттів\n",
    "a = 0.2\n",
    "b = 1.2\n",
    "n = 10\n",
    "\n",
    "# Обчислюємо значення інтегралу методом трапецій\n",
    "def trapezoidal_rule(f, a, b, n):\n",
    "    h = (b - a) / n\n",
    "    x = a\n",
    "    integral_sum = f(a) + f(b)  # Додаємо значення функції на початку і в кінці\n",
    "    for i in range(1, n):\n",
    "        x += h\n",
    "        integral_sum += 2 * f(x)\n",
    "    integral = h / 2 * integral_sum\n",
    "\n",
    "    return integral\n",
    "\n",
    "# Обчислюємо значення інтегралу методом трапецій з точністю 0.0001\n",
    "# Перевірка точності за правилом Рунге\n",
    "integral1 = trapezoidal_rule(f, a, b, n)\n",
    "n *= 2\n",
    "integral2 = trapezoidal_rule(f, a, b, n)\n",
    "while abs(integral2 - integral1) / 3 > 0.0001:\n",
    "    integral1 = integral2\n",
    "    n *= 2\n",
    "    integral2 = trapezoidal_rule(f, a, b, n)\n",
    "\n",
    "# Виводимо результат\n",
    "print(\"Trapezoidal method:\", round(integral2, 3))\n",
    "\n",
    "# Перевірка з використанням integrate.quad\n",
    "v, err = integrate.quad(f, a, b)\n",
    "print(\"Check for the trapezoidal method =\", round(v, 5))"
   ]
  },
  {
   "cell_type": "code",
   "execution_count": 5,
   "id": "e3a8416b-3c1e-4fa4-8698-8a3ed3da71d2",
   "metadata": {},
   "outputs": [
    {
     "name": "stdout",
     "output_type": "stream",
     "text": [
      "right rectangle: 1.2236\n",
      "average rectangle: 1.28326\n",
      "Check for the rectangle method = 1.28428\n"
     ]
    }
   ],
   "source": [
    "from scipy import integrate \n",
    "import numpy as np\n",
    "\n",
    "eps = 0.0001\n",
    "a = 0.6\n",
    "b = 1.4\n",
    "\n",
    "def f1(x):\n",
    "    return (np.cos(x))/x+1  \n",
    "\n",
    "def left_rec(f1, a, b, n): \n",
    "    h = (b - a) / n \n",
    "    integral_sum = 0 \n",
    "    for i in range(0, n): \n",
    "        integral_sum += f1(a + i * h) \n",
    "    return integral_sum * h \n",
    "\n",
    "v, err = integrate.quad(f1, a, b)  # Перевірка\n",
    "\n",
    "# Перевірка точності за правилом Рунге:\n",
    "if abs(left_rec(f1, a, b, 2 * 8) - left_rec(f1, a, b, 8)) / 3. <= eps:\n",
    "    print(\"left rectangle:\", round(left_rec(f1, a, b, 8), 5)) \n",
    "\n",
    "def right_rec(f1, a, b, n): \n",
    "    h = (b - a) / n \n",
    "    integral_sum = 0 \n",
    "    for i in range(1, n + 1): \n",
    "        integral_sum += f1(a + i * h) \n",
    "    return integral_sum * h \n",
    "\n",
    "print(\"right rectangle:\", round(right_rec(f1, a, b, 8), 5)) \n",
    "\n",
    "def aver_rec(f1, a, b, n): \n",
    "    h = (b - a) / n \n",
    "    integral_sum = 0 \n",
    "    for i in range(0, n): \n",
    "        integral_sum += f1(a + i * h + h / 2)  # Додано h / 2\n",
    "    return integral_sum * h \n",
    "\n",
    "print(\"average rectangle:\", round(aver_rec(f1, a, b, 8), 5)) \n",
    "print(\"Check for the rectangle method =\", round(v, 5))"
   ]
  },
  {
   "cell_type": "code",
   "execution_count": 6,
   "id": "47c7c1d9-2015-4996-aa41-94851a30cb6e",
   "metadata": {},
   "outputs": [
    {
     "name": "stdout",
     "output_type": "stream",
     "text": [
      "Simpson method: 0.474\n",
      "Check for the Simpson method = 0.474\n"
     ]
    }
   ],
   "source": [
    "from scipy import integrate \n",
    "import numpy as np\n",
    "\n",
    "# Задаємо функцію, яку необхідно інтегрувати\n",
    "def f(x):\n",
    "    return 1/np.sqrt(1.5*pow(x,2)+0.7)  # Виправлено функцію, видалено dx\n",
    "\n",
    "# Задаємо межі інтегрування та початкову кількість розбиттів\n",
    "a = 1.4\n",
    "b = 2.6\n",
    "n = 20\n",
    "\n",
    "# Обчислюємо значення інтегралу методом Сімпсона\n",
    "def simpson_rule(f, a, b, n):\n",
    "    h = (b - a) / n \n",
    "    integral = f(a) + f(b) \n",
    "    for i in range(1, n): \n",
    "        k = a + i * h \n",
    "        if i % 2 == 0: \n",
    "            integral += 2 * f(k) \n",
    "        else: \n",
    "            integral += 4 * f(k) \n",
    "    integral *= h / 3 \n",
    "    return integral \n",
    "\n",
    "# Обчислюємо значення інтегралу методом Сімпсона з точністю 0.001\n",
    "integral1 = simpson_rule(f, a, b, n)\n",
    "n *= 2\n",
    "integral2 = simpson_rule(f, a, b, n)\n",
    "while abs(integral2 - integral1) / 15 > 0.001:\n",
    "    integral1 = integral2\n",
    "    n *= 2\n",
    "    integral2 = simpson_rule(f, a, b, n)\n",
    "\n",
    "# Виводимо результат\n",
    "print(\"Simpson method:\", round(integral2, 3))\n",
    "\n",
    "v, err = integrate.quad(f, a, b)  # Перевірка \n",
    "print(\"Check for the Simpson method =\", round(v, 3))"
   ]
  },
  {
   "cell_type": "code",
   "execution_count": null,
   "id": "f2428679-d3e9-4e58-b64e-7177a6613fa3",
   "metadata": {},
   "outputs": [],
   "source": []
  }
 ],
 "metadata": {
  "kernelspec": {
   "display_name": "Python 3 (ipykernel)",
   "language": "python",
   "name": "python3"
  },
  "language_info": {
   "codemirror_mode": {
    "name": "ipython",
    "version": 3
   },
   "file_extension": ".py",
   "mimetype": "text/x-python",
   "name": "python",
   "nbconvert_exporter": "python",
   "pygments_lexer": "ipython3",
   "version": "3.12.0"
  }
 },
 "nbformat": 4,
 "nbformat_minor": 5
}
