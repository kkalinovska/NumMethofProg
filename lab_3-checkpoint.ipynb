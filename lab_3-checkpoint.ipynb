{
 "cells": [
  {
   "cell_type": "code",
   "execution_count": 1,
   "id": "9a4f558d-b0c1-4638-b136-870ba0a150da",
   "metadata": {},
   "outputs": [
    {
     "name": "stdout",
     "output_type": "stream",
     "text": [
      "x =  2.020512875706891\n",
      "x =  -5.5430956015168995\n"
     ]
    },
    {
     "name": "stderr",
     "output_type": "stream",
     "text": [
      "C:\\Users\\Spirit\\AppData\\Local\\Temp\\ipykernel_15640\\2063971175.py:7: DeprecationWarning: scipy.misc.derivative is deprecated in SciPy v1.10.0; and will be completely removed in SciPy v1.12.0. You may consider using findiff: https://github.com/maroba/findiff or numdifftools: https://github.com/pbrod/numdifftools\n",
      "  if (derivative(f, a, n = 1)*derivative(f, a, n = 2)>0):\n",
      "C:\\Users\\Spirit\\AppData\\Local\\Temp\\ipykernel_15640\\2063971175.py:17: DeprecationWarning: scipy.misc.derivative is deprecated in SciPy v1.10.0; and will be completely removed in SciPy v1.12.0. You may consider using findiff: https://github.com/maroba/findiff or numdifftools: https://github.com/pbrod/numdifftools\n",
      "  bi_1 = bi - f(bi)/derivative(f,bi, n= 1)\n"
     ]
    }
   ],
   "source": [
    "import numpy as np \n",
    "import math \n",
    "from scipy.misc import derivative\n",
    "def f(x): \n",
    "    return pow(x, 4) + 4*pow(x, 3) - 8*pow(x, 2)  - 17\n",
    "def komb(a,b,eps): \n",
    "    if (derivative(f, a, n = 1)*derivative(f, a, n = 2)>0): \n",
    "        a0 = a \n",
    "        b0 = b \n",
    "    else: \n",
    "        a0 = b \n",
    "        b0 = a \n",
    "    ai = a0 \n",
    "    bi = b0 \n",
    "    while abs(ai-bi)>eps:    \n",
    "        ai_1 = ai -f(ai)*(bi - ai)/(f(bi) - f(ai)) \n",
    "        bi_1 = bi - f(bi)/derivative(f,bi, n= 1)  \n",
    "        ai = ai_1 \n",
    "        bi = bi_1 \n",
    "    x = (ai_1+bi_1)/2\n",
    "    return print('x = ', x) \n",
    "komb(1,3,0.0001)\n",
    "komb(-6,-4,0.0001)"
   ]
  },
  {
   "cell_type": "code",
   "execution_count": 2,
   "id": "86ab9357-73a0-44a6-9b0d-73cf7c303e0f",
   "metadata": {},
   "outputs": [
    {
     "name": "stdout",
     "output_type": "stream",
     "text": [
      "x =  2.0206822356796854\n",
      "x =  -5.543093229961901\n"
     ]
    },
    {
     "name": "stderr",
     "output_type": "stream",
     "text": [
      "C:\\Users\\Spirit\\AppData\\Local\\Temp\\ipykernel_15640\\1507128780.py:10: DeprecationWarning: scipy.misc.derivative is deprecated in SciPy v1.10.0; and will be completely removed in SciPy v1.12.0. You may consider using findiff: https://github.com/maroba/findiff or numdifftools: https://github.com/pbrod/numdifftools\n",
      "  df2 = derivative(f, b, n = 2)\n",
      "C:\\Users\\Spirit\\AppData\\Local\\Temp\\ipykernel_15640\\1507128780.py:16: DeprecationWarning: scipy.misc.derivative is deprecated in SciPy v1.10.0; and will be completely removed in SciPy v1.12.0. You may consider using findiff: https://github.com/maroba/findiff or numdifftools: https://github.com/pbrod/numdifftools\n",
      "  df = derivative(f,xi, n = 1)\n"
     ]
    }
   ],
   "source": [
    "import numpy as np \n",
    "import math \n",
    "from scipy.misc import derivative \n",
    "def f(x): \n",
    "    return pow(x, 4) + 4*pow(x, 3) - 8*pow(x, 2)  - 17\n",
    "\n",
    "eps = 0.0001\n",
    "\n",
    "def nuton(a,b,eps): \n",
    "    df2 = derivative(f, b, n = 2) \n",
    "\n",
    "    if (f(b)*df2>0): \n",
    "        xi = b \n",
    "    else: \n",
    "        xi = a \n",
    "    df = derivative(f,xi, n = 1) \n",
    "    xi_1 = xi - f(xi)/df \n",
    "    while (abs(xi_1 - xi)>eps):  \n",
    "        xi = xi_1 \n",
    "        xi_1 = xi - f(xi)/df \n",
    "    return print ('x = ', xi_1) \n",
    "nuton(1,3,eps)\n",
    "nuton(-6,-4,eps)"
   ]
  },
  {
   "cell_type": "code",
   "execution_count": null,
   "id": "c58bd5f6-4056-4b0c-8540-87269a0db25b",
   "metadata": {},
   "outputs": [],
   "source": []
  }
 ],
 "metadata": {
  "kernelspec": {
   "display_name": "Python 3 (ipykernel)",
   "language": "python",
   "name": "python3"
  },
  "language_info": {
   "codemirror_mode": {
    "name": "ipython",
    "version": 3
   },
   "file_extension": ".py",
   "mimetype": "text/x-python",
   "name": "python",
   "nbconvert_exporter": "python",
   "pygments_lexer": "ipython3",
   "version": "3.12.0"
  }
 },
 "nbformat": 4,
 "nbformat_minor": 5
}
