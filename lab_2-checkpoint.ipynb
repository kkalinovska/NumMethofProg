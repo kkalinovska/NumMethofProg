{
 "cells": [
  {
   "cell_type": "code",
   "execution_count": 1,
   "id": "5b314f66-8b7d-4935-8e93-559c6a8c288e",
   "metadata": {},
   "outputs": [
    {
     "name": "stdout",
     "output_type": "stream",
     "text": [
      "Solution of a nonlinear equation on a segment [1.0, 3.0]\n",
      "x=  2.02039   -   Chord method\n",
      "x=  2.02048   -   Half division method\n"
     ]
    },
    {
     "name": "stderr",
     "output_type": "stream",
     "text": [
      "C:\\Users\\Spirit\\AppData\\Local\\Temp\\ipykernel_1888\\876484862.py:21: DeprecationWarning: scipy.misc.derivative is deprecated in SciPy v1.10.0; and will be completely removed in SciPy v1.12.0. You may consider using findiff: https://github.com/maroba/findiff or numdifftools: https://github.com/pbrod/numdifftools\n",
      "  if (f(a)*derivative(f,a,n=2)>0):\n"
     ]
    }
   ],
   "source": [
    "import math \n",
    "import numpy as np \n",
    "from scipy.misc import derivative \n",
    "def f(x): \n",
    "   return pow(x, 4) + 4*pow(x,3) - 8*pow(x, 2)  - 17\n",
    "eps=0.0001 \n",
    "a=1.#початок першого відрізка\n",
    "b=3.#кінець першого відрізка\n",
    "#a=-6 - початок першого відрізка\n",
    "#b=-4 - кінець першого відрізка\n",
    "def rec(a, b, eps): #метод половинного ділення \n",
    "    while (abs(a-b) > eps): \n",
    "        if f(a)*f((a+b)/2)<0:  \n",
    "            b = (a+b)/2  \n",
    "        else:  \n",
    "            a = (a+b)/2 \n",
    "        x = (a+b)/2 \n",
    "\n",
    "    print ('x= ', round(x,5), '  -   Half division method')\n",
    "def hord (a,b,eps): #метод хорд \n",
    "    if (f(a)*derivative(f,a,n=2)>0): \n",
    "        x0=a \n",
    "        xi=b \n",
    "    else: \n",
    "        x0=b \n",
    "        xi=a \n",
    "    xi_1=xi-(xi-x0)*f(xi)/(f(xi)-f(x0)) \n",
    "\n",
    "    while (abs(xi_1-xi)>eps): \n",
    "        xi=xi_1 \n",
    "        xi_1=xi-(xi-x0)*f(xi)/(f(xi)-f(x0)) \n",
    "    print('x= ', round (xi_1,5) , '  -   Chord method')\n",
    "print (f'Solution of a nonlinear equation on a segment [{a}, {b}]')\n",
    "hord (a,b,eps) \n",
    "rec (a,b,eps)"
   ]
  },
  {
   "cell_type": "code",
   "execution_count": 3,
   "id": "30b0692d-70db-4af0-9e9a-bde3e7000a86",
   "metadata": {},
   "outputs": [
    {
     "name": "stdout",
     "output_type": "stream",
     "text": [
      "Solution of a nonlinear equation on a segment [-6, -4]\n",
      "x=  -5.54306   -   Chord method\n",
      "x=  -5.54306   -   Half division method\n"
     ]
    },
    {
     "name": "stderr",
     "output_type": "stream",
     "text": [
      "C:\\Users\\Spirit\\AppData\\Local\\Temp\\ipykernel_1888\\2827286392.py:20: DeprecationWarning: scipy.misc.derivative is deprecated in SciPy v1.10.0; and will be completely removed in SciPy v1.12.0. You may consider using findiff: https://github.com/maroba/findiff or numdifftools: https://github.com/pbrod/numdifftools\n",
      "  if (f(a)*derivative(f,a,n=2)>0):\n"
     ]
    }
   ],
   "source": [
    "import math \n",
    "import numpy as np \n",
    "from scipy.misc import derivative \n",
    "def f(x): \n",
    "   return pow(x, 4) + 4*pow(x,3) - 8*pow(x, 2)  - 17\n",
    "eps=0.0001 \n",
    "\n",
    "a=-6 # початок першого відрізка\n",
    "b=-4 # кінець першого відрізка\n",
    "def rec(a, b, eps): #метод половинного ділення \n",
    "    while (abs(a-b) > eps): \n",
    "        if f(a)*f((a+b)/2)<0:  \n",
    "            b = (a+b)/2  \n",
    "        else:  \n",
    "            a = (a+b)/2 \n",
    "        x = (a+b)/2 \n",
    "\n",
    "    print ('x= ', round(x,5), '  -   Half division method')\n",
    "def hord (a,b,eps): #метод хорд \n",
    "    if (f(a)*derivative(f,a,n=2)>0): \n",
    "        x0=a \n",
    "        xi=b \n",
    "    else: \n",
    "        x0=b \n",
    "        xi=a \n",
    "    xi_1=xi-(xi-x0)*f(xi)/(f(xi)-f(x0)) \n",
    "\n",
    "    while (abs(xi_1-xi)>eps): \n",
    "        xi=xi_1 \n",
    "        xi_1=xi-(xi-x0)*f(xi)/(f(xi)-f(x0)) \n",
    "    print('x= ', round (xi_1,5) , '  -   Chord method')\n",
    "print (f'Solution of a nonlinear equation on a segment [{a}, {b}]')\n",
    "hord (a,b,eps) \n",
    "rec (a,b,eps)"
   ]
  },
  {
   "cell_type": "code",
   "execution_count": null,
   "id": "88a236f7-5bc1-4f1b-ade1-8c3973ffdb8b",
   "metadata": {},
   "outputs": [],
   "source": []
  }
 ],
 "metadata": {
  "kernelspec": {
   "display_name": "Python 3 (ipykernel)",
   "language": "python",
   "name": "python3"
  },
  "language_info": {
   "codemirror_mode": {
    "name": "ipython",
    "version": 3
   },
   "file_extension": ".py",
   "mimetype": "text/x-python",
   "name": "python",
   "nbconvert_exporter": "python",
   "pygments_lexer": "ipython3",
   "version": "3.12.0"
  }
 },
 "nbformat": 4,
 "nbformat_minor": 5
}
